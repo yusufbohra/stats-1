{
 "cells": [
  {
   "cell_type": "code",
   "execution_count": 1,
   "id": "f6c0117d-8950-4724-a2f2-971a5e7292bd",
   "metadata": {},
   "outputs": [
    {
     "data": {
      "text/plain": [
       "'The Probability Density Function (PDF) is a fundamental concept in probability and statistics. It is used to describe the probability distribution of a continuous random variable. In simple terms, the PDF provides a mathematical function that describes how the probability of the random variable being within a particular range of values changes across its entire domain.'"
      ]
     },
     "execution_count": 1,
     "metadata": {},
     "output_type": "execute_result"
    }
   ],
   "source": [
    "#que 1\n",
    "\"\"\"The Probability Density Function (PDF) is a fundamental concept in probability and statistics. It is used to describe the probability distribution of a continuous random variable. In simple terms, the PDF provides a mathematical function that describes how the probability of the random variable being within a particular range of values changes across its entire domain.\"\"\""
   ]
  },
  {
   "cell_type": "code",
   "execution_count": 2,
   "id": "3b432a3b-331c-4a4c-b24d-4a801263c266",
   "metadata": {},
   "outputs": [
    {
     "data": {
      "text/plain": [
       "'There are several types of probability distributions, each with its own specific characteristics and applications. These distributions can be broadly categorized into two main types: discrete probability distributions and continuous probability distributions.\\n\\n1. Discrete Probability Distributions:\\nDiscrete probability distributions are used to model random variables that take on a finite or countably infinite set of distinct values. The probability of each possible value is defined by the Probability Mass Function (PMF). Some common examples of discrete probability distributions include:\\n\\n- Bernoulli Distribution: A distribution used for modeling a binary outcome, where a random variable takes only two possible values (usually 0 and 1), with probabilities p and q = 1 - p, respectively.\\n- Binomial Distribution: A distribution used to model the number of successes in a fixed number of independent Bernoulli trials.\\n- Poisson Distribution: A distribution used to model the number of events occurring in a fixed interval of time or space, given a constant rate of occurrence.\\n\\n2. Continuous Probability Distributions:\\nContinuous probability distributions are used to model random variables that can take on any value within a certain range or interval. The probabilities are represented by the Probability Density Function (PDF), and probabilities for specific intervals are calculated using integrals. Some common examples of continuous probability distributions include:\\n\\n- Normal (Gaussian) Distribution: Perhaps the most well-known distribution, it is characterized by its bell-shaped curve and is widely used due to the Central Limit Theorem.\\n- Uniform Distribution: A distribution in which all values within a certain interval are equally likely to occur.\\n- Exponential Distribution: A distribution often used to model the time between events in a Poisson process, where events occur at a constant rate.\\n\\n'"
      ]
     },
     "execution_count": 2,
     "metadata": {},
     "output_type": "execute_result"
    }
   ],
   "source": [
    "#que 2\n",
    "\"\"\"There are several types of probability distributions, each with its own specific characteristics and applications. These distributions can be broadly categorized into two main types: discrete probability distributions and continuous probability distributions.\n",
    "\n",
    "1. Discrete Probability Distributions:\n",
    "Discrete probability distributions are used to model random variables that take on a finite or countably infinite set of distinct values. The probability of each possible value is defined by the Probability Mass Function (PMF). Some common examples of discrete probability distributions include:\n",
    "\n",
    "- Bernoulli Distribution: A distribution used for modeling a binary outcome, where a random variable takes only two possible values (usually 0 and 1), with probabilities p and q = 1 - p, respectively.\n",
    "- Binomial Distribution: A distribution used to model the number of successes in a fixed number of independent Bernoulli trials.\n",
    "- Poisson Distribution: A distribution used to model the number of events occurring in a fixed interval of time or space, given a constant rate of occurrence.\n",
    "\n",
    "2. Continuous Probability Distributions:\n",
    "Continuous probability distributions are used to model random variables that can take on any value within a certain range or interval. The probabilities are represented by the Probability Density Function (PDF), and probabilities for specific intervals are calculated using integrals. Some common examples of continuous probability distributions include:\n",
    "\n",
    "- Normal (Gaussian) Distribution: Perhaps the most well-known distribution, it is characterized by its bell-shaped curve and is widely used due to the Central Limit Theorem.\n",
    "- Uniform Distribution: A distribution in which all values within a certain interval are equally likely to occur.\n",
    "- Exponential Distribution: A distribution often used to model the time between events in a Poisson process, where events occur at a constant rate.\n",
    "\n",
    "\"\"\"\n"
   ]
  },
  {
   "cell_type": "code",
   "execution_count": 3,
   "id": "1fd0e0a7-ced0-446a-b587-4365389efb07",
   "metadata": {},
   "outputs": [
    {
     "name": "stdout",
     "output_type": "stream",
     "text": [
      "The PDF at 1.5 is: 0.12951759566589174\n"
     ]
    }
   ],
   "source": [
    "#que 3\n",
    "import math\n",
    "\n",
    "def normal_pdf(x, mean, std_dev):\n",
    "    \"\"\"\n",
    "    Calculate the probability density function (PDF) of a normal distribution at a given point.\n",
    "\n",
    "    Parameters:\n",
    "        x (float): The point at which to evaluate the PDF.\n",
    "        mean (float): The mean (average) of the normal distribution.\n",
    "        std_dev (float): The standard deviation of the normal distribution.\n",
    "\n",
    "    Returns:\n",
    "        float: The value of the PDF at the given point.\n",
    "    \"\"\"\n",
    "    exponent = -0.5 * ((x - mean) / std_dev) ** 2\n",
    "    coefficient = 1 / (std_dev * math.sqrt(2 * math.pi))\n",
    "    pdf_value = coefficient * math.exp(exponent)\n",
    "    return pdf_value\n",
    "\n",
    "# Example usage:\n",
    "mean = 0  # Mean of the normal distribution\n",
    "std_dev = 1  # Standard deviation of the normal distribution\n",
    "point = 1.5  # The point at which to evaluate the PDF\n",
    "\n",
    "pdf_at_point = normal_pdf(point, mean, std_dev)\n",
    "print(f\"The PDF at {point} is: {pdf_at_point}\")\n"
   ]
  },
  {
   "cell_type": "code",
   "execution_count": 4,
   "id": "8ae38e5a-51ca-4fdb-ac90-048f0314d6c4",
   "metadata": {},
   "outputs": [
    {
     "data": {
      "text/plain": [
       "'The properties of the Binomial distribution are as follows:\\n\\n1. Discreteness: The Binomial distribution is a discrete probability distribution, which means that it is used to model random variables with a finite number of outcomes.\\n\\n2. Fixed Number of Trials: The distribution is defined for a fixed number of independent trials (n), where each trial can result in one of two possible outcomes: success or failure.\\n\\n3. Independent Trials: Each trial must be independent of the others, meaning that the outcome of one trial does not influence the outcomes of other trials.\\n\\n4. Constant Probability of Success: The probability of success (p) remains constant for each trial. The probability of failure (q = 1 - p) is also constant.\\n\\n5. Counting Successes: The Binomial distribution calculates the probability of obtaining a specific number of successes (k) in the given fixed number of trials (n).\\n\\n6. Formula: The probability mass function (PMF) for the Binomial distribution is given by the formula: P(X = k) = C(n, k) * p^k * q^(n-k), where X is the random variable, k is the number of successes, n is the number of trials, p is the probability of success, q is the probability of failure, and C(n, k) is the binomial coefficient (n choose k) equal to n! / (k! * (n - k)!).\\n\\nExamples of events where the Binomial distribution can be applied:\\n\\n1. Coin Flips: Suppose you are flipping a fair coin multiple times, and you want to find the probability of getting a specific number of heads (successes) in a fixed number of flips. The Binomial distribution can be used to model this situation.\\n\\n2. Manufacturing Defects: Consider a scenario in which a factory produces a large number of products, and each product may be defective or non-defective with a constant probability. You want to determine the probability of having a certain number of defective items in a randomly selected sample of products. The Binomial distribution can be applied here to calculate the probabilities.'"
      ]
     },
     "execution_count": 4,
     "metadata": {},
     "output_type": "execute_result"
    }
   ],
   "source": [
    "#que 4\n",
    "\"\"\"The properties of the Binomial distribution are as follows:\n",
    "\n",
    "1. Discreteness: The Binomial distribution is a discrete probability distribution, which means that it is used to model random variables with a finite number of outcomes.\n",
    "\n",
    "2. Fixed Number of Trials: The distribution is defined for a fixed number of independent trials (n), where each trial can result in one of two possible outcomes: success or failure.\n",
    "\n",
    "3. Independent Trials: Each trial must be independent of the others, meaning that the outcome of one trial does not influence the outcomes of other trials.\n",
    "\n",
    "4. Constant Probability of Success: The probability of success (p) remains constant for each trial. The probability of failure (q = 1 - p) is also constant.\n",
    "\n",
    "5. Counting Successes: The Binomial distribution calculates the probability of obtaining a specific number of successes (k) in the given fixed number of trials (n).\n",
    "\n",
    "6. Formula: The probability mass function (PMF) for the Binomial distribution is given by the formula: P(X = k) = C(n, k) * p^k * q^(n-k), where X is the random variable, k is the number of successes, n is the number of trials, p is the probability of success, q is the probability of failure, and C(n, k) is the binomial coefficient (n choose k) equal to n! / (k! * (n - k)!).\n",
    "\n",
    "Examples of events where the Binomial distribution can be applied:\n",
    "\n",
    "1. Coin Flips: Suppose you are flipping a fair coin multiple times, and you want to find the probability of getting a specific number of heads (successes) in a fixed number of flips. The Binomial distribution can be used to model this situation.\n",
    "\n",
    "2. Manufacturing Defects: Consider a scenario in which a factory produces a large number of products, and each product may be defective or non-defective with a constant probability. You want to determine the probability of having a certain number of defective items in a randomly selected sample of products. The Binomial distribution can be applied here to calculate the probabilities.\"\"\""
   ]
  },
  {
   "cell_type": "code",
   "execution_count": 5,
   "id": "925e03b6-0047-4316-9fad-6008e13eaf4f",
   "metadata": {},
   "outputs": [
    {
     "data": {
      "image/png": "[encoded data removed]",
      "text/plain": [
       "<Figure size 640x480 with 1 Axes>"
      ]
     },
     "metadata": {},
     "output_type": "display_data"
    }
   ],
   "source": [
    "#que 5\n",
    "import numpy as np\n",
    "import matplotlib.pyplot as plt\n",
    "\n",
    "# Set the parameters for the binomial distribution\n",
    "n_trials = 1000  # Number of trials in the sample\n",
    "probability_success = 0.4  # Probability of success in each trial\n",
    "\n",
    "# Generate the random sample from the binomial distribution\n",
    "random_sample = np.random.binomial(n=n_trials, p=probability_success, size=1000)\n",
    "\n",
    "# Plot the histogram using matplotlib\n",
    "plt.hist(random_sample, bins=20, density=True, edgecolor='black')\n",
    "plt.xlabel('Number of Successes')\n",
    "plt.ylabel('Probability Density')\n",
    "plt.title('Histogram of Random Sample from Binomial Distribution')\n",
    "plt.show()\n"
   ]
  },
  {
   "cell_type": "code",
   "execution_count": 6,
   "id": "96ede8ec-6260-4bb3-8cbd-94f511af983d",
   "metadata": {},
   "outputs": [
    {
     "name": "stdout",
     "output_type": "stream",
     "text": [
      "The CDF at 2 is: 0.3208471988621341\n"
     ]
    }
   ],
   "source": [
    "#que 6\n",
    "import math\n",
    "\n",
    "def poisson_cdf(point, mean):\n",
    "    \"\"\"\n",
    "    Calculate the cumulative distribution function (CDF) of a Poisson distribution at a given point.\n",
    "\n",
    "    Parameters:\n",
    "        point (int): The point at which to evaluate the CDF.\n",
    "        mean (float): The mean of the Poisson distribution.\n",
    "\n",
    "    Returns:\n",
    "        float: The value of the CDF at the given point.\n",
    "    \"\"\"\n",
    "    cdf_value = 0.0\n",
    "    for k in range(point + 1):\n",
    "        cdf_value += (math.exp(-mean) * mean ** k) / math.factorial(k)\n",
    "    return cdf_value\n",
    "\n",
    "# Example usage:\n",
    "mean = 3.5  # Mean of the Poisson distribution\n",
    "point = 2  # The point at which to evaluate the CDF\n",
    "\n",
    "cdf_at_point = poisson_cdf(point, mean)\n",
    "print(f\"The CDF at {point} is: {cdf_at_point}\")\n"
   ]
  },
  {
   "cell_type": "code",
   "execution_count": 7,
   "id": "3abf52cc-bd79-4b23-901c-7c975f558ad1",
   "metadata": {},
   "outputs": [
    {
     "data": {
      "text/plain": [
       "'The Binomial distribution and the Poisson distribution are two different probability distributions used to model different types of random events. They differ in terms of the types of events they describe, the assumptions they make, and the conditions under which they are applied. Here are the main differences between the Binomial and Poisson distributions:\\n\\n1. Nature of Events:\\n   - Binomial Distribution: The Binomial distribution is used to model a fixed number of independent trials, each with two possible outcomes (success or failure). The probability of success remains constant for each trial.\\n   - Poisson Distribution: The Poisson distribution is used to model the number of events that occur in a fixed interval of time or space. It is suitable for events that occur randomly and independently over time or space.\\n\\n2. Number of Trials:\\n   - Binomial Distribution: The Binomial distribution requires a fixed number of trials (n) to be specified in advance.\\n   - Poisson Distribution: The Poisson distribution does not require a fixed number of trials; it deals with events occurring in a continuous or infinite sequence.\\n\\n3. Number of Outcomes:\\n   - Binomial Distribution: The Binomial distribution deals with discrete outcomes, typically expressed as counts (e.g., number of successes in n trials).\\n   - Poisson Distribution: The Poisson distribution also deals with discrete outcomes, but it represents the count of events occurring in a continuous interval or space.\\n\\n4. Assumptions:\\n   - Binomial Distribution: The Binomial distribution assumes that the trials are independent of each other, and the probability of success remains constant for each trial.\\n   - Poisson Distribution: The Poisson distribution assumes that the events occur randomly and independently over time or space, and the average rate of occurrence is constant.\\n\\n5. Parameterization:\\n   - Binomial Distribution: The Binomial distribution is parameterized by two parameters: the number of trials (n) and the probability of success in each trial (p).\\n   - Poisson Distribution: The Poisson distribution is parameterized by a single parameter: the average rate of event occurrence (λ) in the given interval.\\n\\n6. Range of Values:\\n   - Binomial Distribution: The values in the Binomial distribution are discrete and range from 0 to n.\\n   - Poisson Distribution: The values in the Poisson distribution are also discrete and range from 0 to infinity.\\n\\nIn summary, the Binomial distribution is used for a fixed number of independent trials with two possible outcomes, while the Poisson distribution is used for modeling the number of events occurring randomly and independently in a fixed interval or space. The choice between these distributions depends on the nature of the data and the specific characteristics of the random events being modeled.'"
      ]
     },
     "execution_count": 7,
     "metadata": {},
     "output_type": "execute_result"
    }
   ],
   "source": [
    "#qu 7\n",
    "\"\"\"The Binomial distribution and the Poisson distribution are two different probability distributions used to model different types of random events. They differ in terms of the types of events they describe, the assumptions they make, and the conditions under which they are applied. Here are the main differences between the Binomial and Poisson distributions:\n",
    "\n",
    "1. Nature of Events:\n",
    "   - Binomial Distribution: The Binomial distribution is used to model a fixed number of independent trials, each with two possible outcomes (success or failure). The probability of success remains constant for each trial.\n",
    "   - Poisson Distribution: The Poisson distribution is used to model the number of events that occur in a fixed interval of time or space. It is suitable for events that occur randomly and independently over time or space.\n",
    "\n",
    "2. Number of Trials:\n",
    "   - Binomial Distribution: The Binomial distribution requires a fixed number of trials (n) to be specified in advance.\n",
    "   - Poisson Distribution: The Poisson distribution does not require a fixed number of trials; it deals with events occurring in a continuous or infinite sequence.\n",
    "\n",
    "3. Number of Outcomes:\n",
    "   - Binomial Distribution: The Binomial distribution deals with discrete outcomes, typically expressed as counts (e.g., number of successes in n trials).\n",
    "   - Poisson Distribution: The Poisson distribution also deals with discrete outcomes, but it represents the count of events occurring in a continuous interval or space.\n",
    "\n",
    "4. Assumptions:\n",
    "   - Binomial Distribution: The Binomial distribution assumes that the trials are independent of each other, and the probability of success remains constant for each trial.\n",
    "   - Poisson Distribution: The Poisson distribution assumes that the events occur randomly and independently over time or space, and the average rate of occurrence is constant.\n",
    "\n",
    "5. Parameterization:\n",
    "   - Binomial Distribution: The Binomial distribution is parameterized by two parameters: the number of trials (n) and the probability of success in each trial (p).\n",
    "   - Poisson Distribution: The Poisson distribution is parameterized by a single parameter: the average rate of event occurrence (λ) in the given interval.\n",
    "\n",
    "6. Range of Values:\n",
    "   - Binomial Distribution: The values in the Binomial distribution are discrete and range from 0 to n.\n",
    "   - Poisson Distribution: The values in the Poisson distribution are also discrete and range from 0 to infinity.\n",
    "\n",
    "In summary, the Binomial distribution is used for a fixed number of independent trials with two possible outcomes, while the Poisson distribution is used for modeling the number of events occurring randomly and independently in a fixed interval or space. The choice between these distributions depends on the nature of the data and the specific characteristics of the random events being modeled.\"\"\""
   ]
  },
  {
   "cell_type": "code",
   "execution_count": 8,
   "id": "b56b6e75-c9c8-496a-ad71-3481650f571b",
   "metadata": {},
   "outputs": [
    {
     "name": "stdout",
     "output_type": "stream",
     "text": [
      "Sample Mean: 4.888\n",
      "Sample Variance: 5.202658658658658\n"
     ]
    }
   ],
   "source": [
    "#que 8\n",
    "import numpy as np\n",
    "\n",
    "# Set the parameters for the Poisson distribution\n",
    "mean = 5\n",
    "\n",
    "# Generate the random sample from the Poisson distribution\n",
    "sample_size = 1000\n",
    "random_sample = np.random.poisson(mean, size=sample_size)\n",
    "\n",
    "# Calculate the sample mean and variance\n",
    "sample_mean = np.mean(random_sample)\n",
    "sample_variance = np.var(random_sample, ddof=1)  # ddof=1 for unbiased sample variance\n",
    "\n",
    "print(f\"Sample Mean: {sample_mean}\")\n",
    "print(f\"Sample Variance: {sample_variance}\")\n"
   ]
  },
  {
   "cell_type": "code",
   "execution_count": 9,
   "id": "42c15a11-3462-420e-884c-fa0afb6ed9eb",
   "metadata": {},
   "outputs": [
    {
     "data": {
      "text/plain": [
       "\"In both the Binomial and Poisson distributions, the mean and variance are related to the distribution's parameters, but they differ in their specific relationships.\\n\\n1. Binomial Distribution:\\nFor a Binomial distribution with parameters n (number of trials) and p (probability of success in each trial), the mean (μ) and variance (σ^2) are related as follows:\\n- Mean (μ) = n * p\\n- Variance (σ^2) = n * p * (1 - p)\\n\\nIn the Binomial distribution, the mean represents the expected number of successes in n independent trials, and the variance measures the spread or dispersion of the number of successes around the mean. The variance is at its maximum when p = 0.5 and decreases as p moves away from 0.5 towards either 0 or 1.\\n\\n2. Poisson Distribution:\\nFor a Poisson distribution with parameter λ (average rate of event occurrence), the mean (μ) and variance (σ^2) are related as follows:\\n- Mean (μ) = λ\\n- Variance (σ^2) = λ\\n\\nIn the Poisson distribution, the mean and variance are both equal to λ, which represents the average rate of event occurrences in the given time or space interval. The Poisson distribution is often used to model rare events that occur randomly and independently, and its variance is equal to its mean.\\n\\nIn summary, both the Binomial and Poisson distributions have a direct relationship between their means and variances, but the specific relationships are different. For the Binomial distribution, the variance is influenced by the probability of success (p), while for the Poisson distribution, the variance is solely determined by the mean (λ). In both cases, the variance quantifies the dispersion or spread of the distribution's values around the mean.\""
      ]
     },
     "execution_count": 9,
     "metadata": {},
     "output_type": "execute_result"
    }
   ],
   "source": [
    "#que 9\n",
    "\"\"\"In both the Binomial and Poisson distributions, the mean and variance are related to the distribution's parameters, but they differ in their specific relationships.\n",
    "\n",
    "1. Binomial Distribution:\n",
    "For a Binomial distribution with parameters n (number of trials) and p (probability of success in each trial), the mean (μ) and variance (σ^2) are related as follows:\n",
    "- Mean (μ) = n * p\n",
    "- Variance (σ^2) = n * p * (1 - p)\n",
    "\n",
    "In the Binomial distribution, the mean represents the expected number of successes in n independent trials, and the variance measures the spread or dispersion of the number of successes around the mean. The variance is at its maximum when p = 0.5 and decreases as p moves away from 0.5 towards either 0 or 1.\n",
    "\n",
    "2. Poisson Distribution:\n",
    "For a Poisson distribution with parameter λ (average rate of event occurrence), the mean (μ) and variance (σ^2) are related as follows:\n",
    "- Mean (μ) = λ\n",
    "- Variance (σ^2) = λ\n",
    "\n",
    "In the Poisson distribution, the mean and variance are both equal to λ, which represents the average rate of event occurrences in the given time or space interval. The Poisson distribution is often used to model rare events that occur randomly and independently, and its variance is equal to its mean.\n",
    "\n",
    "In summary, both the Binomial and Poisson distributions have a direct relationship between their means and variances, but the specific relationships are different. For the Binomial distribution, the variance is influenced by the probability of success (p), while for the Poisson distribution, the variance is solely determined by the mean (λ). In both cases, the variance quantifies the dispersion or spread of the distribution's values around the mean.\"\"\""
   ]
  },
  {
   "cell_type": "code",
   "execution_count": null,
   "id": "dc1ba3b7-f7ee-43ee-8628-04c99c17044c",
   "metadata": {},
   "outputs": [],
   "source": [
    "#que 10\n"
   ]
  }
 ],
 "metadata": {
  "kernelspec": {
   "display_name": "Python 3 (ipykernel)",
   "language": "python",
   "name": "python3"
  },
  "language_info": {
   "codemirror_mode": {
    "name": "ipython",
    "version": 3
   },
   "file_extension": ".py",
   "mimetype": "text/x-python",
   "name": "python",
   "nbconvert_exporter": "python",
   "pygments_lexer": "ipython3",
   "version": "3.10.8"
  }
 },
 "nbformat": 4,
 "nbformat_minor": 5
}
